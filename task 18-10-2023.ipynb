{
 "cells": [
  {
   "cell_type": "code",
   "execution_count": 1,
   "id": "b9145379",
   "metadata": {},
   "outputs": [],
   "source": [
    "import numpy as np"
   ]
  },
  {
   "cell_type": "code",
   "execution_count": 2,
   "id": "a6235d84",
   "metadata": {},
   "outputs": [],
   "source": [
    "import pandas as pd"
   ]
  },
  {
   "cell_type": "markdown",
   "id": "f9bd5aeb",
   "metadata": {},
   "source": [
    "#### Create pandas series with different data types in different ways"
   ]
  },
  {
   "cell_type": "code",
   "execution_count": 3,
   "id": "8691c74e",
   "metadata": {},
   "outputs": [],
   "source": [
    "list1 = [1,2,3,4,5,6,7,8,9,10]"
   ]
  },
  {
   "cell_type": "code",
   "execution_count": 4,
   "id": "7ce83461",
   "metadata": {},
   "outputs": [
    {
     "data": {
      "text/plain": [
       "0     1\n",
       "1     2\n",
       "2     3\n",
       "3     4\n",
       "4     5\n",
       "5     6\n",
       "6     7\n",
       "7     8\n",
       "8     9\n",
       "9    10\n",
       "dtype: int64"
      ]
     },
     "execution_count": 4,
     "metadata": {},
     "output_type": "execute_result"
    }
   ],
   "source": [
    "list2 = pd.Series(list1)\n",
    "list2"
   ]
  },
  {
   "cell_type": "code",
   "execution_count": 5,
   "id": "95c9a2df",
   "metadata": {},
   "outputs": [
    {
     "data": {
      "text/plain": [
       "0      ajay\n",
       "1    ramesh\n",
       "2     vijay\n",
       "3      raju\n",
       "4    shekar\n",
       "5    mahesh\n",
       "dtype: object"
      ]
     },
     "execution_count": 5,
     "metadata": {},
     "output_type": "execute_result"
    }
   ],
   "source": [
    "emp_n = ['ajay','ramesh','vijay','raju','shekar','mahesh']\n",
    "pd.Series(emp_n)"
   ]
  },
  {
   "cell_type": "code",
   "execution_count": 6,
   "id": "756ab9b6",
   "metadata": {},
   "outputs": [
    {
     "data": {
      "text/plain": [
       "1      ajay\n",
       "2    ramesh\n",
       "3     vijay\n",
       "4      raju\n",
       "5    shekar\n",
       "6    mahesh\n",
       "dtype: object"
      ]
     },
     "execution_count": 6,
     "metadata": {},
     "output_type": "execute_result"
    }
   ],
   "source": [
    "pd.Series(emp_n, index = list(range(1,7)))"
   ]
  },
  {
   "cell_type": "code",
   "execution_count": 7,
   "id": "bc9ead5c",
   "metadata": {},
   "outputs": [
    {
     "data": {
      "text/plain": [
       "ajay      40\n",
       "ramesh    75\n",
       "vijay     53\n",
       "raju      25\n",
       "shekar    30\n",
       "dtype: int64"
      ]
     },
     "execution_count": 7,
     "metadata": {},
     "output_type": "execute_result"
    }
   ],
   "source": [
    "emp_de = {'ajay':40,'ramesh':75,'vijay':53,'raju':25,'shekar':30}\n",
    "pd.Series(emp_de)"
   ]
  },
  {
   "cell_type": "markdown",
   "id": "40f1627c",
   "metadata": {},
   "source": [
    "#### Find the attributes of Series of [10,30,40,1,3,6,14,18,23] with index starts from 100"
   ]
  },
  {
   "cell_type": "code",
   "execution_count": 8,
   "id": "948abfbe",
   "metadata": {},
   "outputs": [
    {
     "data": {
      "text/plain": [
       "100    10\n",
       "101    30\n",
       "102    40\n",
       "103     1\n",
       "104     3\n",
       "105     6\n",
       "106    14\n",
       "107    18\n",
       "108    23\n",
       "dtype: int64"
      ]
     },
     "execution_count": 8,
     "metadata": {},
     "output_type": "execute_result"
    }
   ],
   "source": [
    "x = [10,30,40,1,3,6,14,18,23]\n",
    "pd.Series(x)\n",
    "y = pd.Series(x, index = list(range(100,109)))\n",
    "y"
   ]
  },
  {
   "cell_type": "code",
   "execution_count": 9,
   "id": "530a118f",
   "metadata": {
    "scrolled": true
   },
   "outputs": [
    {
     "name": "stdout",
     "output_type": "stream",
     "text": [
      "<class 'pandas.core.series.Series'>\n",
      "Int64Index: 9 entries, 100 to 108\n",
      "Series name: None\n",
      "Non-Null Count  Dtype\n",
      "--------------  -----\n",
      "9 non-null      int64\n",
      "dtypes: int64(1)\n",
      "memory usage: 144.0 bytes\n"
     ]
    }
   ],
   "source": [
    "y.info()"
   ]
  },
  {
   "cell_type": "code",
   "execution_count": 10,
   "id": "c5b43f43",
   "metadata": {
    "scrolled": true
   },
   "outputs": [
    {
     "data": {
      "text/plain": [
       "100    10\n",
       "101    30\n",
       "102    40\n",
       "103     1\n",
       "104     3\n",
       "dtype: int64"
      ]
     },
     "execution_count": 10,
     "metadata": {},
     "output_type": "execute_result"
    }
   ],
   "source": [
    "y.head(5)"
   ]
  },
  {
   "cell_type": "code",
   "execution_count": 11,
   "id": "a3720117",
   "metadata": {
    "scrolled": true
   },
   "outputs": [
    {
     "data": {
      "text/plain": [
       "104     3\n",
       "105     6\n",
       "106    14\n",
       "107    18\n",
       "108    23\n",
       "dtype: int64"
      ]
     },
     "execution_count": 11,
     "metadata": {},
     "output_type": "execute_result"
    }
   ],
   "source": [
    "y.tail(5)"
   ]
  },
  {
   "cell_type": "code",
   "execution_count": 12,
   "id": "5d3d208f",
   "metadata": {},
   "outputs": [
    {
     "data": {
      "text/plain": [
       "144"
      ]
     },
     "execution_count": 12,
     "metadata": {},
     "output_type": "execute_result"
    }
   ],
   "source": [
    "y.memory_usage()"
   ]
  },
  {
   "cell_type": "code",
   "execution_count": 13,
   "id": "c5197d18",
   "metadata": {},
   "outputs": [
    {
     "data": {
      "text/plain": [
       "count     9.000000\n",
       "mean     16.111111\n",
       "std      13.033078\n",
       "min       1.000000\n",
       "25%       6.000000\n",
       "50%      14.000000\n",
       "75%      23.000000\n",
       "max      40.000000\n",
       "dtype: float64"
      ]
     },
     "execution_count": 13,
     "metadata": {},
     "output_type": "execute_result"
    }
   ],
   "source": [
    "y.describe()"
   ]
  },
  {
   "cell_type": "markdown",
   "id": "e1087b87",
   "metadata": {},
   "source": [
    "#### create salaries of 30 employee salaries randomly from 30000-90000 then measure and describe the data using pandas series."
   ]
  },
  {
   "cell_type": "code",
   "execution_count": 14,
   "id": "c232c87f",
   "metadata": {},
   "outputs": [
    {
     "data": {
      "text/plain": [
       "1     48751\n",
       "2     51811\n",
       "3     72380\n",
       "4     76252\n",
       "5     30442\n",
       "6     60304\n",
       "7     42439\n",
       "8     55334\n",
       "9     83037\n",
       "10    37922\n",
       "11    75340\n",
       "12    76611\n",
       "13    42758\n",
       "14    71685\n",
       "15    70320\n",
       "16    32602\n",
       "17    60597\n",
       "18    84569\n",
       "19    49197\n",
       "20    47979\n",
       "21    62950\n",
       "22    59051\n",
       "23    67627\n",
       "24    52412\n",
       "25    35195\n",
       "26    48380\n",
       "27    45420\n",
       "28    69604\n",
       "29    81721\n",
       "30    75813\n",
       "dtype: int32"
      ]
     },
     "execution_count": 14,
     "metadata": {},
     "output_type": "execute_result"
    }
   ],
   "source": [
    "sal = np.random.randint(30000,90000,30)\n",
    "salary = pd.Series(sal, index = list(range(1,31)))\n",
    "salary"
   ]
  },
  {
   "cell_type": "code",
   "execution_count": 15,
   "id": "4b9c25ef",
   "metadata": {},
   "outputs": [
    {
     "data": {
      "text/plain": [
       "count       30.000000\n",
       "mean     58950.100000\n",
       "std      15941.427049\n",
       "min      30442.000000\n",
       "25%      48079.250000\n",
       "50%      59677.500000\n",
       "75%      72206.250000\n",
       "max      84569.000000\n",
       "dtype: float64"
      ]
     },
     "execution_count": 15,
     "metadata": {},
     "output_type": "execute_result"
    }
   ],
   "source": [
    "salary.describe()"
   ]
  },
  {
   "cell_type": "code",
   "execution_count": 16,
   "id": "3c775192",
   "metadata": {},
   "outputs": [
    {
     "data": {
      "text/plain": [
       "58950.1"
      ]
     },
     "execution_count": 16,
     "metadata": {},
     "output_type": "execute_result"
    }
   ],
   "source": [
    "salary.mean()"
   ]
  },
  {
   "cell_type": "code",
   "execution_count": 17,
   "id": "7e384988",
   "metadata": {},
   "outputs": [
    {
     "data": {
      "text/plain": [
       "59677.5"
      ]
     },
     "execution_count": 17,
     "metadata": {},
     "output_type": "execute_result"
    }
   ],
   "source": [
    "salary.median()"
   ]
  },
  {
   "cell_type": "code",
   "execution_count": 18,
   "id": "11acf29b",
   "metadata": {},
   "outputs": [
    {
     "data": {
      "text/plain": [
       "0     30442\n",
       "1     32602\n",
       "2     35195\n",
       "3     37922\n",
       "4     42439\n",
       "5     42758\n",
       "6     45420\n",
       "7     47979\n",
       "8     48380\n",
       "9     48751\n",
       "10    49197\n",
       "11    51811\n",
       "12    52412\n",
       "13    55334\n",
       "14    59051\n",
       "15    60304\n",
       "16    60597\n",
       "17    62950\n",
       "18    67627\n",
       "19    69604\n",
       "20    70320\n",
       "21    71685\n",
       "22    72380\n",
       "23    75340\n",
       "24    75813\n",
       "25    76252\n",
       "26    76611\n",
       "27    81721\n",
       "28    83037\n",
       "29    84569\n",
       "dtype: int32"
      ]
     },
     "execution_count": 18,
     "metadata": {},
     "output_type": "execute_result"
    }
   ],
   "source": [
    "salary.mode()"
   ]
  },
  {
   "cell_type": "code",
   "execution_count": 19,
   "id": "5c7004d9",
   "metadata": {},
   "outputs": [
    {
     "data": {
      "text/plain": [
       "30442"
      ]
     },
     "execution_count": 19,
     "metadata": {},
     "output_type": "execute_result"
    }
   ],
   "source": [
    "salary.min()"
   ]
  },
  {
   "cell_type": "code",
   "execution_count": 20,
   "id": "82a7165c",
   "metadata": {},
   "outputs": [
    {
     "data": {
      "text/plain": [
       "84569"
      ]
     },
     "execution_count": 20,
     "metadata": {},
     "output_type": "execute_result"
    }
   ],
   "source": [
    "salary.max()"
   ]
  },
  {
   "cell_type": "code",
   "execution_count": 21,
   "id": "8045d6eb",
   "metadata": {},
   "outputs": [
    {
     "data": {
      "text/plain": [
       "360"
      ]
     },
     "execution_count": 21,
     "metadata": {},
     "output_type": "execute_result"
    }
   ],
   "source": [
    "salary.memory_usage()"
   ]
  },
  {
   "cell_type": "code",
   "execution_count": 22,
   "id": "13a6dd38",
   "metadata": {},
   "outputs": [
    {
     "name": "stdout",
     "output_type": "stream",
     "text": [
      "<class 'pandas.core.series.Series'>\n",
      "Int64Index: 30 entries, 1 to 30\n",
      "Series name: None\n",
      "Non-Null Count  Dtype\n",
      "--------------  -----\n",
      "30 non-null     int32\n",
      "dtypes: int32(1)\n",
      "memory usage: 360.0 bytes\n"
     ]
    }
   ],
   "source": [
    "salary.info()"
   ]
  },
  {
   "cell_type": "markdown",
   "id": "21e32a90",
   "metadata": {},
   "source": [
    "#### What are the similaraties and differences between pandas series and nnumpy array.Prove it with code."
   ]
  },
  {
   "cell_type": "code",
   "execution_count": 23,
   "id": "cfbb0faa",
   "metadata": {},
   "outputs": [
    {
     "data": {
      "text/plain": [
       "array([1, 2, 3, 4, 5, 6, 7, 8, 9])"
      ]
     },
     "execution_count": 23,
     "metadata": {},
     "output_type": "execute_result"
    }
   ],
   "source": [
    "num = [1,2,3,4,5,6,7,8,9]\n",
    "np.array(num)"
   ]
  },
  {
   "cell_type": "code",
   "execution_count": 24,
   "id": "783d7a7b",
   "metadata": {},
   "outputs": [
    {
     "data": {
      "text/plain": [
       "0          1\n",
       "1          2\n",
       "2          3\n",
       "3          4\n",
       "4          5\n",
       "5          6\n",
       "6          7\n",
       "7          8\n",
       "8          9\n",
       "9       ajay\n",
       "10    rakesh\n",
       "11    sujith\n",
       "dtype: object"
      ]
     },
     "execution_count": 24,
     "metadata": {},
     "output_type": "execute_result"
    }
   ],
   "source": [
    "num1 = [1,2,3,4,5,6,7,8, 9, 'ajay','rakesh','sujith']\n",
    "pd.Series(num1)"
   ]
  },
  {
   "cell_type": "markdown",
   "id": "a7067676",
   "metadata": {},
   "source": [
    "1. In numpy we can give only numerical values\n",
    "2. numpy is a homogenious and n dimentional array\n",
    "\n",
    "1. In pandas we can give both numerical and string values\n",
    "2. pandas is a heterogenious and single dimentional"
   ]
  },
  {
   "cell_type": "markdown",
   "id": "429bc88a",
   "metadata": {},
   "source": [
    "#### create pandas series with ranges from 100 to 150 then apply indexing and slicing on it."
   ]
  },
  {
   "cell_type": "code",
   "execution_count": 25,
   "id": "f2a1b363",
   "metadata": {},
   "outputs": [
    {
     "data": {
      "text/plain": [
       "0     100\n",
       "1     101\n",
       "2     102\n",
       "3     103\n",
       "4     104\n",
       "5     105\n",
       "6     106\n",
       "7     107\n",
       "8     108\n",
       "9     109\n",
       "10    110\n",
       "11    111\n",
       "12    112\n",
       "13    113\n",
       "14    114\n",
       "15    115\n",
       "16    116\n",
       "17    117\n",
       "18    118\n",
       "19    119\n",
       "20    120\n",
       "21    121\n",
       "22    122\n",
       "23    123\n",
       "24    124\n",
       "25    125\n",
       "26    126\n",
       "27    127\n",
       "28    128\n",
       "29    129\n",
       "30    130\n",
       "31    131\n",
       "32    132\n",
       "33    133\n",
       "34    134\n",
       "35    135\n",
       "36    136\n",
       "37    137\n",
       "38    138\n",
       "39    139\n",
       "40    140\n",
       "41    141\n",
       "42    142\n",
       "43    143\n",
       "44    144\n",
       "45    145\n",
       "46    146\n",
       "47    147\n",
       "48    148\n",
       "49    149\n",
       "dtype: int64"
      ]
     },
     "execution_count": 25,
     "metadata": {},
     "output_type": "execute_result"
    }
   ],
   "source": [
    "emp_id = list(range(100,150))\n",
    "emp_i = pd.Series(emp_id)\n",
    "emp_i"
   ]
  },
  {
   "cell_type": "code",
   "execution_count": 26,
   "id": "77d23bed",
   "metadata": {},
   "outputs": [
    {
     "data": {
      "text/plain": [
       "130"
      ]
     },
     "execution_count": 26,
     "metadata": {},
     "output_type": "execute_result"
    }
   ],
   "source": [
    "emp_i[30] # indexing"
   ]
  },
  {
   "cell_type": "code",
   "execution_count": 27,
   "id": "baf575c0",
   "metadata": {},
   "outputs": [
    {
     "data": {
      "text/plain": [
       "1    101\n",
       "3    103\n",
       "5    105\n",
       "7    107\n",
       "9    109\n",
       "dtype: int64"
      ]
     },
     "execution_count": 27,
     "metadata": {},
     "output_type": "execute_result"
    }
   ],
   "source": [
    "emp_i[1:10:2] # slicing"
   ]
  },
  {
   "cell_type": "code",
   "execution_count": null,
   "id": "86f8e217",
   "metadata": {},
   "outputs": [],
   "source": []
  }
 ],
 "metadata": {
  "kernelspec": {
   "display_name": "Python 3 (ipykernel)",
   "language": "python",
   "name": "python3"
  },
  "language_info": {
   "codemirror_mode": {
    "name": "ipython",
    "version": 3
   },
   "file_extension": ".py",
   "mimetype": "text/x-python",
   "name": "python",
   "nbconvert_exporter": "python",
   "pygments_lexer": "ipython3",
   "version": "3.11.4"
  }
 },
 "nbformat": 4,
 "nbformat_minor": 5
}
