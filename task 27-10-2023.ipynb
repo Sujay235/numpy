{
 "cells": [
  {
   "cell_type": "markdown",
   "id": "23126039",
   "metadata": {},
   "source": [
    "a. Kindly fill the missing values with\n",
    "1. value\n",
    "2. Statistical value\n",
    "3. Filling  method\n",
    "\n",
    "B. Create pivot table for  position and average salary.\n",
    "\n",
    "C. Group the data using group by as per gender  and average age."
   ]
  },
  {
   "cell_type": "code",
   "execution_count": 1,
   "id": "1a6caaf5",
   "metadata": {},
   "outputs": [],
   "source": [
    "import numpy as np\n",
    "import pandas as pd"
   ]
  },
  {
   "cell_type": "code",
   "execution_count": 2,
   "id": "d40f9ff2",
   "metadata": {},
   "outputs": [],
   "source": [
    "df = pd.read_excel(r\"C:\\Users\\Admin\\Downloads\\ethnic_diversity.xlsx\")"
   ]
  },
  {
   "cell_type": "code",
   "execution_count": 3,
   "id": "854003ed",
   "metadata": {},
   "outputs": [
    {
     "data": {
      "text/html": [
       "<div>\n",
       "<style scoped>\n",
       "    .dataframe tbody tr th:only-of-type {\n",
       "        vertical-align: middle;\n",
       "    }\n",
       "\n",
       "    .dataframe tbody tr th {\n",
       "        vertical-align: top;\n",
       "    }\n",
       "\n",
       "    .dataframe thead th {\n",
       "        text-align: right;\n",
       "    }\n",
       "</style>\n",
       "<table border=\"1\" class=\"dataframe\">\n",
       "  <thead>\n",
       "    <tr style=\"text-align: right;\">\n",
       "      <th></th>\n",
       "      <th>Employee_Name</th>\n",
       "      <th>EmpID</th>\n",
       "      <th>Position</th>\n",
       "      <th>State</th>\n",
       "      <th>Zip</th>\n",
       "      <th>Gender</th>\n",
       "      <th>MaritalDesc</th>\n",
       "      <th>CitizenDesc</th>\n",
       "      <th>EmploymentStatus</th>\n",
       "      <th>Department</th>\n",
       "      <th>Salaries</th>\n",
       "      <th>age</th>\n",
       "      <th>Race</th>\n",
       "    </tr>\n",
       "  </thead>\n",
       "  <tbody>\n",
       "    <tr>\n",
       "      <th>0</th>\n",
       "      <td>Brown, Mia</td>\n",
       "      <td>1103024456</td>\n",
       "      <td>Accountant I</td>\n",
       "      <td>MA</td>\n",
       "      <td>1450.0</td>\n",
       "      <td>F</td>\n",
       "      <td>Married</td>\n",
       "      <td>US Citizen</td>\n",
       "      <td>Active</td>\n",
       "      <td>Admin Offices</td>\n",
       "      <td>674.28</td>\n",
       "      <td>28</td>\n",
       "      <td>Black or African American</td>\n",
       "    </tr>\n",
       "    <tr>\n",
       "      <th>1</th>\n",
       "      <td>LaRotonda, William</td>\n",
       "      <td>1106026572</td>\n",
       "      <td>Accountant I</td>\n",
       "      <td>MA</td>\n",
       "      <td>1460.0</td>\n",
       "      <td>M</td>\n",
       "      <td>Divorced</td>\n",
       "      <td>US Citizen</td>\n",
       "      <td>Active</td>\n",
       "      <td>Admin Offices</td>\n",
       "      <td>674.28</td>\n",
       "      <td>50</td>\n",
       "      <td>NaN</td>\n",
       "    </tr>\n",
       "    <tr>\n",
       "      <th>2</th>\n",
       "      <td>Steans, Tyrone</td>\n",
       "      <td>1302053333</td>\n",
       "      <td>NaN</td>\n",
       "      <td>MA</td>\n",
       "      <td>2703.0</td>\n",
       "      <td>M</td>\n",
       "      <td>Single</td>\n",
       "      <td>US Citizen</td>\n",
       "      <td>Active</td>\n",
       "      <td>Admin Offices</td>\n",
       "      <td>674.28</td>\n",
       "      <td>43</td>\n",
       "      <td>White</td>\n",
       "    </tr>\n",
       "    <tr>\n",
       "      <th>3</th>\n",
       "      <td>Howard, Estelle</td>\n",
       "      <td>1211050782</td>\n",
       "      <td>Administrative Assistant</td>\n",
       "      <td>MA</td>\n",
       "      <td>2170.0</td>\n",
       "      <td>F</td>\n",
       "      <td>Married</td>\n",
       "      <td>US Citizen</td>\n",
       "      <td>Terminated for Cause</td>\n",
       "      <td>Admin Offices</td>\n",
       "      <td>NaN</td>\n",
       "      <td>44</td>\n",
       "      <td>White</td>\n",
       "    </tr>\n",
       "    <tr>\n",
       "      <th>4</th>\n",
       "      <td>Singh, Nan</td>\n",
       "      <td>1307059817</td>\n",
       "      <td>Administrative Assistant</td>\n",
       "      <td>MA</td>\n",
       "      <td>2330.0</td>\n",
       "      <td>F</td>\n",
       "      <td>Single</td>\n",
       "      <td>US Citizen</td>\n",
       "      <td>Active</td>\n",
       "      <td>Admin Offices</td>\n",
       "      <td>61089.35</td>\n",
       "      <td>33</td>\n",
       "      <td>White</td>\n",
       "    </tr>\n",
       "  </tbody>\n",
       "</table>\n",
       "</div>"
      ],
      "text/plain": [
       "          Employee_Name       EmpID                  Position State     Zip  \\\n",
       "0            Brown, Mia  1103024456              Accountant I    MA  1450.0   \n",
       "1  LaRotonda, William    1106026572              Accountant I    MA  1460.0   \n",
       "2      Steans, Tyrone    1302053333                       NaN    MA  2703.0   \n",
       "3       Howard, Estelle  1211050782  Administrative Assistant    MA  2170.0   \n",
       "4           Singh, Nan   1307059817  Administrative Assistant    MA  2330.0   \n",
       "\n",
       "  Gender MaritalDesc CitizenDesc      EmploymentStatus     Department  \\\n",
       "0      F     Married  US Citizen                Active  Admin Offices   \n",
       "1     M     Divorced  US Citizen                Active  Admin Offices   \n",
       "2     M       Single  US Citizen                Active  Admin Offices   \n",
       "3      F     Married  US Citizen  Terminated for Cause  Admin Offices   \n",
       "4      F      Single  US Citizen                Active  Admin Offices   \n",
       "\n",
       "   Salaries  age                       Race  \n",
       "0    674.28   28  Black or African American  \n",
       "1    674.28   50                        NaN  \n",
       "2    674.28   43                      White  \n",
       "3       NaN   44                      White  \n",
       "4  61089.35   33                      White  "
      ]
     },
     "execution_count": 3,
     "metadata": {},
     "output_type": "execute_result"
    }
   ],
   "source": [
    "df.head()"
   ]
  },
  {
   "cell_type": "code",
   "execution_count": 4,
   "id": "4c0b2e80",
   "metadata": {},
   "outputs": [
    {
     "data": {
      "text/plain": [
       "Employee_Name        0\n",
       "EmpID                0\n",
       "Position             6\n",
       "State                2\n",
       "Zip                  2\n",
       "Gender               7\n",
       "MaritalDesc          9\n",
       "CitizenDesc          3\n",
       "EmploymentStatus     0\n",
       "Department           5\n",
       "Salaries            12\n",
       "age                  0\n",
       "Race                 9\n",
       "dtype: int64"
      ]
     },
     "execution_count": 4,
     "metadata": {},
     "output_type": "execute_result"
    }
   ],
   "source": [
    "df.isna().sum()"
   ]
  },
  {
   "cell_type": "code",
   "execution_count": 5,
   "id": "97c7ee83",
   "metadata": {},
   "outputs": [
    {
     "data": {
      "text/plain": [
       "6"
      ]
     },
     "execution_count": 5,
     "metadata": {},
     "output_type": "execute_result"
    }
   ],
   "source": [
    "df['Position'].isna().sum()"
   ]
  },
  {
   "cell_type": "code",
   "execution_count": 6,
   "id": "6ae125ac",
   "metadata": {},
   "outputs": [
    {
     "data": {
      "text/html": [
       "<div>\n",
       "<style scoped>\n",
       "    .dataframe tbody tr th:only-of-type {\n",
       "        vertical-align: middle;\n",
       "    }\n",
       "\n",
       "    .dataframe tbody tr th {\n",
       "        vertical-align: top;\n",
       "    }\n",
       "\n",
       "    .dataframe thead th {\n",
       "        text-align: right;\n",
       "    }\n",
       "</style>\n",
       "<table border=\"1\" class=\"dataframe\">\n",
       "  <thead>\n",
       "    <tr style=\"text-align: right;\">\n",
       "      <th></th>\n",
       "      <th>Employee_Name</th>\n",
       "      <th>EmpID</th>\n",
       "      <th>Position</th>\n",
       "      <th>State</th>\n",
       "      <th>Zip</th>\n",
       "      <th>Gender</th>\n",
       "      <th>MaritalDesc</th>\n",
       "      <th>CitizenDesc</th>\n",
       "      <th>EmploymentStatus</th>\n",
       "      <th>Department</th>\n",
       "      <th>Salaries</th>\n",
       "      <th>age</th>\n",
       "      <th>Race</th>\n",
       "    </tr>\n",
       "  </thead>\n",
       "  <tbody>\n",
       "    <tr>\n",
       "      <th>2</th>\n",
       "      <td>Steans, Tyrone</td>\n",
       "      <td>1302053333</td>\n",
       "      <td>NaN</td>\n",
       "      <td>MA</td>\n",
       "      <td>2703.0</td>\n",
       "      <td>M</td>\n",
       "      <td>Single</td>\n",
       "      <td>US Citizen</td>\n",
       "      <td>Active</td>\n",
       "      <td>Admin Offices</td>\n",
       "      <td>674.28</td>\n",
       "      <td>43</td>\n",
       "      <td>White</td>\n",
       "    </tr>\n",
       "    <tr>\n",
       "      <th>91</th>\n",
       "      <td>Desimone, Carl</td>\n",
       "      <td>1501072124</td>\n",
       "      <td>NaN</td>\n",
       "      <td>MA</td>\n",
       "      <td>2061.0</td>\n",
       "      <td>M</td>\n",
       "      <td>NaN</td>\n",
       "      <td>US Citizen</td>\n",
       "      <td>Active</td>\n",
       "      <td>NaN</td>\n",
       "      <td>15736.71</td>\n",
       "      <td>26</td>\n",
       "      <td>White</td>\n",
       "    </tr>\n",
       "    <tr>\n",
       "      <th>95</th>\n",
       "      <td>Kirill, Alexandra</td>\n",
       "      <td>903013071</td>\n",
       "      <td>NaN</td>\n",
       "      <td>MA</td>\n",
       "      <td>2127.0</td>\n",
       "      <td>F</td>\n",
       "      <td>Married</td>\n",
       "      <td>US Citizen</td>\n",
       "      <td>Voluntarily Terminated</td>\n",
       "      <td>Production</td>\n",
       "      <td>37619.00</td>\n",
       "      <td>44</td>\n",
       "      <td>White</td>\n",
       "    </tr>\n",
       "    <tr>\n",
       "      <th>151</th>\n",
       "      <td>Engdahl, Jean</td>\n",
       "      <td>1007020403</td>\n",
       "      <td>NaN</td>\n",
       "      <td>NaN</td>\n",
       "      <td>2026.0</td>\n",
       "      <td>M</td>\n",
       "      <td>Single</td>\n",
       "      <td>US Citizen</td>\n",
       "      <td>Active</td>\n",
       "      <td>Production</td>\n",
       "      <td>49808.01</td>\n",
       "      <td>54</td>\n",
       "      <td>White</td>\n",
       "    </tr>\n",
       "    <tr>\n",
       "      <th>307</th>\n",
       "      <td>Semizoglou, Jeremiah</td>\n",
       "      <td>904013591</td>\n",
       "      <td>NaN</td>\n",
       "      <td>MA</td>\n",
       "      <td>1545.0</td>\n",
       "      <td>M</td>\n",
       "      <td>Married</td>\n",
       "      <td>US Citizen</td>\n",
       "      <td>Future Start</td>\n",
       "      <td>IT/IS</td>\n",
       "      <td>27587.46</td>\n",
       "      <td>24</td>\n",
       "      <td>Asian</td>\n",
       "    </tr>\n",
       "    <tr>\n",
       "      <th>309</th>\n",
       "      <td>Warfield, Sarah</td>\n",
       "      <td>1301052347</td>\n",
       "      <td>NaN</td>\n",
       "      <td>MA</td>\n",
       "      <td>2453.0</td>\n",
       "      <td>F</td>\n",
       "      <td>Widowed</td>\n",
       "      <td>US Citizen</td>\n",
       "      <td>Active</td>\n",
       "      <td>IT/IS</td>\n",
       "      <td>37257.00</td>\n",
       "      <td>46</td>\n",
       "      <td>Asian</td>\n",
       "    </tr>\n",
       "  </tbody>\n",
       "</table>\n",
       "</div>"
      ],
      "text/plain": [
       "              Employee_Name       EmpID Position State     Zip Gender  \\\n",
       "2          Steans, Tyrone    1302053333      NaN    MA  2703.0     M    \n",
       "91          Desimone, Carl   1501072124      NaN    MA  2061.0     M    \n",
       "95      Kirill, Alexandra     903013071      NaN    MA  2127.0      F   \n",
       "151           Engdahl, Jean  1007020403      NaN   NaN  2026.0     M    \n",
       "307  Semizoglou, Jeremiah     904013591      NaN    MA  1545.0     M    \n",
       "309         Warfield, Sarah  1301052347      NaN    MA  2453.0      F   \n",
       "\n",
       "    MaritalDesc CitizenDesc        EmploymentStatus         Department  \\\n",
       "2        Single  US Citizen                  Active      Admin Offices   \n",
       "91          NaN  US Citizen                  Active                NaN   \n",
       "95      Married  US Citizen  Voluntarily Terminated  Production          \n",
       "151      Single  US Citizen                  Active  Production          \n",
       "307     Married  US Citizen            Future Start              IT/IS   \n",
       "309     Widowed  US Citizen                  Active              IT/IS   \n",
       "\n",
       "     Salaries  age   Race  \n",
       "2      674.28   43  White  \n",
       "91   15736.71   26  White  \n",
       "95   37619.00   44  White  \n",
       "151  49808.01   54  White  \n",
       "307  27587.46   24  Asian  \n",
       "309  37257.00   46  Asian  "
      ]
     },
     "execution_count": 6,
     "metadata": {},
     "output_type": "execute_result"
    }
   ],
   "source": [
    "df[df['Position'].isna()]"
   ]
  },
  {
   "cell_type": "code",
   "execution_count": 7,
   "id": "083a2402",
   "metadata": {},
   "outputs": [],
   "source": [
    "# using value method"
   ]
  },
  {
   "cell_type": "code",
   "execution_count": 8,
   "id": "325cb4ec",
   "metadata": {
    "scrolled": true
   },
   "outputs": [],
   "source": [
    "df['Position'].fillna('Accountant I',inplace = True)  "
   ]
  },
  {
   "cell_type": "code",
   "execution_count": 9,
   "id": "d72738e1",
   "metadata": {},
   "outputs": [],
   "source": [
    "# using using statistical value method"
   ]
  },
  {
   "cell_type": "code",
   "execution_count": 10,
   "id": "eaf75a07",
   "metadata": {},
   "outputs": [
    {
     "data": {
      "text/plain": [
       "'Production Technician I'"
      ]
     },
     "execution_count": 10,
     "metadata": {},
     "output_type": "execute_result"
    }
   ],
   "source": [
    "df['Position'].mode()[0] "
   ]
  },
  {
   "cell_type": "code",
   "execution_count": 11,
   "id": "48074c3b",
   "metadata": {},
   "outputs": [],
   "source": [
    "df['Position'].fillna(df['Position'].mode()[0],inplace = True)"
   ]
  },
  {
   "cell_type": "code",
   "execution_count": 12,
   "id": "5d4c4990",
   "metadata": {},
   "outputs": [],
   "source": [
    "# using filling method"
   ]
  },
  {
   "cell_type": "code",
   "execution_count": 13,
   "id": "d26d8f8e",
   "metadata": {},
   "outputs": [],
   "source": [
    "df['Position'].fillna(method = 'pad',inplace = True) # we can also use the bfill, ffill "
   ]
  },
  {
   "cell_type": "code",
   "execution_count": 14,
   "id": "fb57b789",
   "metadata": {},
   "outputs": [
    {
     "data": {
      "text/plain": [
       "'MA'"
      ]
     },
     "execution_count": 14,
     "metadata": {},
     "output_type": "execute_result"
    }
   ],
   "source": [
    "df['State'].mode()[0]"
   ]
  },
  {
   "cell_type": "code",
   "execution_count": 15,
   "id": "94d0d87a",
   "metadata": {},
   "outputs": [],
   "source": [
    "df['State'].fillna('MA',inplace = True)"
   ]
  },
  {
   "cell_type": "code",
   "execution_count": 16,
   "id": "9e3c964f",
   "metadata": {},
   "outputs": [
    {
     "data": {
      "text/plain": [
       "1886.0"
      ]
     },
     "execution_count": 16,
     "metadata": {},
     "output_type": "execute_result"
    }
   ],
   "source": [
    "df['Zip'].mode()[0] "
   ]
  },
  {
   "cell_type": "code",
   "execution_count": 17,
   "id": "3b4a45f5",
   "metadata": {},
   "outputs": [],
   "source": [
    "df['Zip'].fillna(df['Zip'].mode()[0],inplace = True)"
   ]
  },
  {
   "cell_type": "code",
   "execution_count": 18,
   "id": "adb243f2",
   "metadata": {},
   "outputs": [
    {
     "data": {
      "text/plain": [
       "'F'"
      ]
     },
     "execution_count": 18,
     "metadata": {},
     "output_type": "execute_result"
    }
   ],
   "source": [
    "df['Gender'].mode()[0]"
   ]
  },
  {
   "cell_type": "code",
   "execution_count": 19,
   "id": "b8e9e37a",
   "metadata": {},
   "outputs": [],
   "source": [
    "df['Gender'].fillna(df['Gender'].mode()[0],inplace = True)"
   ]
  },
  {
   "cell_type": "code",
   "execution_count": 20,
   "id": "bbc3714d",
   "metadata": {},
   "outputs": [],
   "source": [
    "df['MaritalDesc'].fillna(method = 'ffill', inplace = True)"
   ]
  },
  {
   "cell_type": "code",
   "execution_count": 21,
   "id": "c362410f",
   "metadata": {},
   "outputs": [],
   "source": [
    "df['CitizenDesc'].fillna(method = 'pad', inplace = True)"
   ]
  },
  {
   "cell_type": "code",
   "execution_count": 22,
   "id": "22e90a64",
   "metadata": {},
   "outputs": [
    {
     "data": {
      "text/plain": [
       "'Production       '"
      ]
     },
     "execution_count": 22,
     "metadata": {},
     "output_type": "execute_result"
    }
   ],
   "source": [
    "df['Department'].mode()[0]"
   ]
  },
  {
   "cell_type": "code",
   "execution_count": 23,
   "id": "1594353c",
   "metadata": {},
   "outputs": [],
   "source": [
    "df['Department'].fillna('Production', inplace = True)"
   ]
  },
  {
   "cell_type": "code",
   "execution_count": 24,
   "id": "b2b42cb0",
   "metadata": {},
   "outputs": [],
   "source": [
    "df['Salaries'].fillna(method = 'bfill', inplace = True)"
   ]
  },
  {
   "cell_type": "code",
   "execution_count": 25,
   "id": "9777829d",
   "metadata": {},
   "outputs": [],
   "source": [
    "df['Race'].fillna(method = 'ffill', inplace = True)"
   ]
  },
  {
   "cell_type": "code",
   "execution_count": 26,
   "id": "fad29e1f",
   "metadata": {},
   "outputs": [
    {
     "data": {
      "text/plain": [
       "Employee_Name       0\n",
       "EmpID               0\n",
       "Position            0\n",
       "State               0\n",
       "Zip                 0\n",
       "Gender              0\n",
       "MaritalDesc         0\n",
       "CitizenDesc         0\n",
       "EmploymentStatus    0\n",
       "Department          0\n",
       "Salaries            0\n",
       "age                 0\n",
       "Race                0\n",
       "dtype: int64"
      ]
     },
     "execution_count": 26,
     "metadata": {},
     "output_type": "execute_result"
    }
   ],
   "source": [
    "df.isna().sum()"
   ]
  },
  {
   "cell_type": "markdown",
   "id": "6ad55042",
   "metadata": {},
   "source": [
    "#### 2. Create pivot table for  position and average salary.\n"
   ]
  },
  {
   "cell_type": "code",
   "execution_count": 27,
   "id": "62753412",
   "metadata": {},
   "outputs": [
    {
     "data": {
      "text/html": [
       "<div>\n",
       "<style scoped>\n",
       "    .dataframe tbody tr th:only-of-type {\n",
       "        vertical-align: middle;\n",
       "    }\n",
       "\n",
       "    .dataframe tbody tr th {\n",
       "        vertical-align: top;\n",
       "    }\n",
       "\n",
       "    .dataframe thead th {\n",
       "        text-align: right;\n",
       "    }\n",
       "</style>\n",
       "<table border=\"1\" class=\"dataframe\">\n",
       "  <thead>\n",
       "    <tr style=\"text-align: right;\">\n",
       "      <th>Position</th>\n",
       "      <th>Accountant I</th>\n",
       "      <th>Administrative Assistant</th>\n",
       "      <th>Area Sales Manager</th>\n",
       "      <th>BI Developer</th>\n",
       "      <th>BI Director</th>\n",
       "      <th>CIO</th>\n",
       "      <th>Data Analyst</th>\n",
       "      <th>Data Analyst</th>\n",
       "      <th>Data Architect</th>\n",
       "      <th>Database Administrator</th>\n",
       "      <th>...</th>\n",
       "      <th>Production Technician I</th>\n",
       "      <th>Production Technician II</th>\n",
       "      <th>Sales Manager</th>\n",
       "      <th>Senior BI Developer</th>\n",
       "      <th>Shared Services Manager</th>\n",
       "      <th>Software Engineer</th>\n",
       "      <th>Software Engineering Manager</th>\n",
       "      <th>Sr. Accountant</th>\n",
       "      <th>Sr. DBA</th>\n",
       "      <th>Sr. Network Engineer</th>\n",
       "    </tr>\n",
       "  </thead>\n",
       "  <tbody>\n",
       "    <tr>\n",
       "      <th>Salaries</th>\n",
       "      <td>21253.8775</td>\n",
       "      <td>51528.24</td>\n",
       "      <td>42564.650741</td>\n",
       "      <td>35845.3325</td>\n",
       "      <td>4160.0</td>\n",
       "      <td>26418.01</td>\n",
       "      <td>37772.945714</td>\n",
       "      <td>42304.75</td>\n",
       "      <td>90016.01</td>\n",
       "      <td>33813.996</td>\n",
       "      <td>...</td>\n",
       "      <td>35322.100977</td>\n",
       "      <td>33803.863333</td>\n",
       "      <td>34093.246667</td>\n",
       "      <td>71293.676667</td>\n",
       "      <td>45262.975</td>\n",
       "      <td>39892.308889</td>\n",
       "      <td>40208.0</td>\n",
       "      <td>27349.755</td>\n",
       "      <td>31954.975</td>\n",
       "      <td>25782.846667</td>\n",
       "    </tr>\n",
       "  </tbody>\n",
       "</table>\n",
       "<p>1 rows × 32 columns</p>\n",
       "</div>"
      ],
      "text/plain": [
       "Position  Accountant I  Administrative Assistant  Area Sales Manager  \\\n",
       "Salaries    21253.8775                  51528.24        42564.650741   \n",
       "\n",
       "Position  BI Developer  BI Director       CIO  Data Analyst  Data Analyst   \\\n",
       "Salaries    35845.3325       4160.0  26418.01  37772.945714       42304.75   \n",
       "\n",
       "Position  Data Architect  Database Administrator  ...  \\\n",
       "Salaries        90016.01               33813.996  ...   \n",
       "\n",
       "Position  Production Technician I  Production Technician II  Sales Manager  \\\n",
       "Salaries             35322.100977              33803.863333   34093.246667   \n",
       "\n",
       "Position  Senior BI Developer  Shared Services Manager  Software Engineer  \\\n",
       "Salaries         71293.676667                45262.975       39892.308889   \n",
       "\n",
       "Position  Software Engineering Manager  Sr. Accountant    Sr. DBA  \\\n",
       "Salaries                       40208.0       27349.755  31954.975   \n",
       "\n",
       "Position  Sr. Network Engineer  \n",
       "Salaries          25782.846667  \n",
       "\n",
       "[1 rows x 32 columns]"
      ]
     },
     "execution_count": 27,
     "metadata": {},
     "output_type": "execute_result"
    }
   ],
   "source": [
    "df.pivot_table(values ='Salaries', columns = 'Position', aggfunc= 'mean')"
   ]
  },
  {
   "cell_type": "code",
   "execution_count": 28,
   "id": "3221eb4e",
   "metadata": {},
   "outputs": [
    {
     "data": {
      "text/plain": [
       "Index(['Employee_Name', 'EmpID', 'Position', 'State', 'Zip', 'Gender',\n",
       "       'MaritalDesc', 'CitizenDesc', 'EmploymentStatus', 'Department',\n",
       "       'Salaries', 'age', 'Race'],\n",
       "      dtype='object')"
      ]
     },
     "execution_count": 28,
     "metadata": {},
     "output_type": "execute_result"
    }
   ],
   "source": [
    "df.columns"
   ]
  },
  {
   "cell_type": "markdown",
   "id": "94b32b75",
   "metadata": {},
   "source": [
    "#### 3. Group the data using group by as per gender  and average age."
   ]
  },
  {
   "cell_type": "code",
   "execution_count": 29,
   "id": "4fd08312",
   "metadata": {},
   "outputs": [
    {
     "data": {
      "text/plain": [
       "Gender\n",
       "F     38.670391\n",
       "M     38.732824\n",
       "Name: age, dtype: float64"
      ]
     },
     "execution_count": 29,
     "metadata": {},
     "output_type": "execute_result"
    }
   ],
   "source": [
    "df.groupby('Gender')['age'].mean()"
   ]
  },
  {
   "cell_type": "code",
   "execution_count": null,
   "id": "96c3e8e2",
   "metadata": {},
   "outputs": [],
   "source": []
  },
  {
   "cell_type": "code",
   "execution_count": null,
   "id": "dbd1d238",
   "metadata": {},
   "outputs": [],
   "source": []
  }
 ],
 "metadata": {
  "kernelspec": {
   "display_name": "Python 3 (ipykernel)",
   "language": "python",
   "name": "python3"
  },
  "language_info": {
   "codemirror_mode": {
    "name": "ipython",
    "version": 3
   },
   "file_extension": ".py",
   "mimetype": "text/x-python",
   "name": "python",
   "nbconvert_exporter": "python",
   "pygments_lexer": "ipython3",
   "version": "3.11.4"
  }
 },
 "nbformat": 4,
 "nbformat_minor": 5
}
